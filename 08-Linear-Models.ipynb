{
 "cells": [
  {
   "cell_type": "code",
   "execution_count": 1,
   "id": "1e71b1a1",
   "metadata": {},
   "outputs": [],
   "source": [
    "%matplotlib inline\n",
    "import numpy as np\n",
    "import matplotlib.pyplot as plt"
   ]
  },
  {
   "cell_type": "markdown",
   "id": "1da5c177",
   "metadata": {},
   "source": [
    "# Linear Models\n",
    "Linear models are usefull when data is available or for very large feature spaces as in text classification. in addition they form a good case study for regularization."
   ]
  },
  {
   "cell_type": "markdown",
   "id": "089907a5",
   "metadata": {},
   "source": [
    "# Linear Models for Regression\n",
    "All linear models for regression learn a coefficient parameter ``coef_`` and an offset ``intercept_`` to make predictions using a linear combination of features: </br>\n",
    "    ``` y_pred = x_test[0] * coef_[0] + ... + x_test[n_features-1] * coef_[n_features-1] + intercept_ ``` </br>\n",
    "The difference between the linear models for regression is what kind of restrictions or penalties are put on ``coef_`` as regularization , in addition to fitting the training data well.\n",
    "The most standard linear model is the **ordinary least squares regression**, often simply called **linear regression**. It doesn't put any additional restrictions on ``coef_``, so when the number of features is large, it becomes ill-posed and the model overfits.</br>\n",
    "Let us generate a simple simulation, to see the behavior of these models."
   ]
  },
  {
   "cell_type": "code",
   "execution_count": null,
   "id": "ac654442",
   "metadata": {},
   "outputs": [],
   "source": [
    "from sklearn.datasets import make_regression\n",
    "from sklearn.model_selection import train_test_split\n",
    "\n",
    "X, y, true_coef - make_regression(n_samples=200, n_feature=30, n_informative=10, noise=100, coef=True, random_state=5)"
   ]
  }
 ],
 "metadata": {
  "kernelspec": {
   "display_name": "Python 3 (ipykernel)",
   "language": "python",
   "name": "python3"
  },
  "language_info": {
   "codemirror_mode": {
    "name": "ipython",
    "version": 3
   },
   "file_extension": ".py",
   "mimetype": "text/x-python",
   "name": "python",
   "nbconvert_exporter": "python",
   "pygments_lexer": "ipython3",
   "version": "3.9.6"
  }
 },
 "nbformat": 4,
 "nbformat_minor": 5
}
