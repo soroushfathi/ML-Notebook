{
 "cells": [
  {
   "cell_type": "markdown",
   "id": "9a0d8fcc",
   "metadata": {},
   "source": [
    "# 2. Linear Models for Classification\n",
    "\n",
    "All linear models for classification learn coefficiant parameters `coef_` and the offset `intercept_` to make a predictions using a linear combination of features: <br>\n",
    "`y_pred = x_test[0] * coef_[0] + ... + x_test[n_features-1] * coef_[n_features-1] + intercept > 0` <br>\n",
    "as you can see, this is very similar to regression, only that a threshold  at a zero applied.\n",
    "\n",
    "Again, the difference between the linear models for classification what kind of regularization is put on `coef_` and `intercept_`, but there are also minor differences in how the fit to the training set is measured (the so-called loss function).\n",
    "\n",
    "The two most common models for linear classification are the linear SVM as implemented in LinearSVC and LogisticRegression.\n",
    "\n",
    "A good intuition for regularization of linear classifiers is that with high regularization, it is enough if most of the points are classified correctly. But with less regularization, more importance is given to each individual data point. This is illustrated using an linear SVM with different values of `C` below."
   ]
  },
  {
   "cell_type": "markdown",
   "id": "5759a90d",
   "metadata": {},
   "source": [
    "## 2.1 Logestic Regression\n",
    "\n",
    "Logistic regression, despite its name, is a linear model for classification rather than regression. Logistic regression is also known in the literature as logit regression, maximum-entropy classification (MaxEnt) or the log-linear classifier. In this model, the probabilities describing the possible outcomes of a single trial are modeled using a \n",
    "<a href=\"https://en.wikipedia.org/wiki/Logistic_function\">logistic function</a>.<br>\n",
    "\n",
    "Logistic regression is implemented in LogisticRegression. This implementation can fit binary, One-vs-Rest, or multinomial logistic regression with optional ,  or Elastic-Net regularization."
   ]
  },
  {
   "cell_type": "markdown",
   "id": "a5216e63",
   "metadata": {},
   "source": [
    "### 2.1.1 Binary Case"
   ]
  },
  {
   "cell_type": "code",
   "execution_count": null,
   "id": "c598ec13",
   "metadata": {},
   "outputs": [],
   "source": []
  }
 ],
 "metadata": {
  "kernelspec": {
   "display_name": "Python 3 (ipykernel)",
   "language": "python",
   "name": "python3"
  },
  "language_info": {
   "codemirror_mode": {
    "name": "ipython",
    "version": 3
   },
   "file_extension": ".py",
   "mimetype": "text/x-python",
   "name": "python",
   "nbconvert_exporter": "python",
   "pygments_lexer": "ipython3",
   "version": "3.9.6"
  }
 },
 "nbformat": 4,
 "nbformat_minor": 5
}
