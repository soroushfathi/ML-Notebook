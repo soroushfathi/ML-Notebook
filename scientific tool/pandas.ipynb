{
 "cells": [
  {
   "cell_type": "code",
   "execution_count": 7,
   "id": "b6fb6a76",
   "metadata": {},
   "outputs": [],
   "source": [
    "import pandas as pd\n",
    "import numpy as np"
   ]
  },
  {
   "cell_type": "code",
   "execution_count": 9,
   "id": "0c66ac4c",
   "metadata": {},
   "outputs": [
    {
     "data": {
      "text/plain": [
       "0          1\n",
       "1          2\n",
       "2    soroush\n",
       "3          0\n",
       "4        NaN\n",
       "dtype: object"
      ]
     },
     "execution_count": 9,
     "metadata": {},
     "output_type": "execute_result"
    }
   ],
   "source": [
    "pd.Series([1, 2, 'soroush', 0, np.nan])"
   ]
  },
  {
   "cell_type": "code",
   "execution_count": 11,
   "id": "759c1e3e",
   "metadata": {},
   "outputs": [
    {
     "data": {
      "text/plain": [
       "DatetimeIndex(['2022-01-01', '2022-01-02', '2022-01-03', '2022-01-04',\n",
       "               '2022-01-05', '2022-01-06'],\n",
       "              dtype='datetime64[ns]', freq='D')"
      ]
     },
     "execution_count": 11,
     "metadata": {},
     "output_type": "execute_result"
    }
   ],
   "source": [
    "dates = pd.date_range(\"20220101\", periods=6)\n",
    "dates"
   ]
  },
  {
   "cell_type": "code",
   "execution_count": 12,
   "id": "484a2491",
   "metadata": {},
   "outputs": [
    {
     "data": {
      "text/plain": [
       "array([[ 1.2183325 , -0.38136978, -0.52184731,  0.76471177],\n",
       "       [ 0.4478273 ,  0.04408624,  0.65742305, -0.31965866],\n",
       "       [-0.55105729,  1.60192487, -0.71189227, -0.94308395],\n",
       "       [-0.53450133,  0.24018449,  0.3813503 ,  1.23342847],\n",
       "       [ 0.35584677, -0.31517466, -1.21122894, -0.60717333],\n",
       "       [-0.38917631, -1.13834308,  1.3917104 ,  0.55946527]])"
      ]
     },
     "execution_count": 12,
     "metadata": {},
     "output_type": "execute_result"
    }
   ],
   "source": [
    "np.random.randn(6, 4)"
   ]
  },
  {
   "cell_type": "code",
   "execution_count": 17,
   "id": "6bee617a",
   "metadata": {},
   "outputs": [
    {
     "data": {
      "text/html": [
       "<div>\n",
       "<style scoped>\n",
       "    .dataframe tbody tr th:only-of-type {\n",
       "        vertical-align: middle;\n",
       "    }\n",
       "\n",
       "    .dataframe tbody tr th {\n",
       "        vertical-align: top;\n",
       "    }\n",
       "\n",
       "    .dataframe thead th {\n",
       "        text-align: right;\n",
       "    }\n",
       "</style>\n",
       "<table border=\"1\" class=\"dataframe\">\n",
       "  <thead>\n",
       "    <tr style=\"text-align: right;\">\n",
       "      <th></th>\n",
       "      <th>A</th>\n",
       "      <th>B</th>\n",
       "      <th>C</th>\n",
       "      <th>D</th>\n",
       "    </tr>\n",
       "  </thead>\n",
       "  <tbody>\n",
       "    <tr>\n",
       "      <th>2022-01-01</th>\n",
       "      <td>-0.491105</td>\n",
       "      <td>-1.002755</td>\n",
       "      <td>-1.141881</td>\n",
       "      <td>-0.921176</td>\n",
       "    </tr>\n",
       "    <tr>\n",
       "      <th>2022-01-02</th>\n",
       "      <td>0.201389</td>\n",
       "      <td>0.634529</td>\n",
       "      <td>0.834983</td>\n",
       "      <td>0.828460</td>\n",
       "    </tr>\n",
       "    <tr>\n",
       "      <th>2022-01-03</th>\n",
       "      <td>0.376346</td>\n",
       "      <td>-1.161716</td>\n",
       "      <td>0.171054</td>\n",
       "      <td>1.029630</td>\n",
       "    </tr>\n",
       "    <tr>\n",
       "      <th>2022-01-04</th>\n",
       "      <td>-0.143922</td>\n",
       "      <td>-0.059754</td>\n",
       "      <td>-1.382855</td>\n",
       "      <td>0.291116</td>\n",
       "    </tr>\n",
       "    <tr>\n",
       "      <th>2022-01-05</th>\n",
       "      <td>0.643967</td>\n",
       "      <td>-0.553109</td>\n",
       "      <td>1.389393</td>\n",
       "      <td>0.105539</td>\n",
       "    </tr>\n",
       "    <tr>\n",
       "      <th>2022-01-06</th>\n",
       "      <td>-0.484536</td>\n",
       "      <td>-0.042471</td>\n",
       "      <td>0.226032</td>\n",
       "      <td>-1.011374</td>\n",
       "    </tr>\n",
       "  </tbody>\n",
       "</table>\n",
       "</div>"
      ],
      "text/plain": [
       "                   A         B         C         D\n",
       "2022-01-01 -0.491105 -1.002755 -1.141881 -0.921176\n",
       "2022-01-02  0.201389  0.634529  0.834983  0.828460\n",
       "2022-01-03  0.376346 -1.161716  0.171054  1.029630\n",
       "2022-01-04 -0.143922 -0.059754 -1.382855  0.291116\n",
       "2022-01-05  0.643967 -0.553109  1.389393  0.105539\n",
       "2022-01-06 -0.484536 -0.042471  0.226032 -1.011374"
      ]
     },
     "execution_count": 17,
     "metadata": {},
     "output_type": "execute_result"
    }
   ],
   "source": [
    "df = pd.DataFrame(np.random.randn(6, 4), index=dates, columns=['A', 'B', 'C', 'D'])\n",
    "df"
   ]
  },
  {
   "cell_type": "code",
   "execution_count": 20,
   "id": "526053d3",
   "metadata": {},
   "outputs": [
    {
     "data": {
      "text/plain": [
       "A    float64\n",
       "B    float64\n",
       "C    float64\n",
       "D    float64\n",
       "dtype: object"
      ]
     },
     "execution_count": 20,
     "metadata": {},
     "output_type": "execute_result"
    }
   ],
   "source": [
    "df.dtypes"
   ]
  },
  {
   "cell_type": "code",
   "execution_count": 23,
   "id": "94efd0c7",
   "metadata": {},
   "outputs": [
    {
     "data": {
      "text/html": [
       "<div>\n",
       "<style scoped>\n",
       "    .dataframe tbody tr th:only-of-type {\n",
       "        vertical-align: middle;\n",
       "    }\n",
       "\n",
       "    .dataframe tbody tr th {\n",
       "        vertical-align: top;\n",
       "    }\n",
       "\n",
       "    .dataframe thead th {\n",
       "        text-align: right;\n",
       "    }\n",
       "</style>\n",
       "<table border=\"1\" class=\"dataframe\">\n",
       "  <thead>\n",
       "    <tr style=\"text-align: right;\">\n",
       "      <th></th>\n",
       "      <th>A</th>\n",
       "      <th>B</th>\n",
       "      <th>C</th>\n",
       "      <th>D</th>\n",
       "    </tr>\n",
       "  </thead>\n",
       "  <tbody>\n",
       "    <tr>\n",
       "      <th>2022-01-05</th>\n",
       "      <td>0.643967</td>\n",
       "      <td>-0.553109</td>\n",
       "      <td>1.389393</td>\n",
       "      <td>0.105539</td>\n",
       "    </tr>\n",
       "    <tr>\n",
       "      <th>2022-01-06</th>\n",
       "      <td>-0.484536</td>\n",
       "      <td>-0.042471</td>\n",
       "      <td>0.226032</td>\n",
       "      <td>-1.011374</td>\n",
       "    </tr>\n",
       "  </tbody>\n",
       "</table>\n",
       "</div>"
      ],
      "text/plain": [
       "                   A         B         C         D\n",
       "2022-01-05  0.643967 -0.553109  1.389393  0.105539\n",
       "2022-01-06 -0.484536 -0.042471  0.226032 -1.011374"
      ]
     },
     "execution_count": 23,
     "metadata": {},
     "output_type": "execute_result"
    }
   ],
   "source": [
    "df.head(1)\n",
    "df.tail(2)"
   ]
  },
  {
   "cell_type": "code",
   "execution_count": 24,
   "id": "57140f0a",
   "metadata": {},
   "outputs": [
    {
     "data": {
      "text/html": [
       "<div>\n",
       "<style scoped>\n",
       "    .dataframe tbody tr th:only-of-type {\n",
       "        vertical-align: middle;\n",
       "    }\n",
       "\n",
       "    .dataframe tbody tr th {\n",
       "        vertical-align: top;\n",
       "    }\n",
       "\n",
       "    .dataframe thead th {\n",
       "        text-align: right;\n",
       "    }\n",
       "</style>\n",
       "<table border=\"1\" class=\"dataframe\">\n",
       "  <thead>\n",
       "    <tr style=\"text-align: right;\">\n",
       "      <th></th>\n",
       "      <th>A</th>\n",
       "      <th>B</th>\n",
       "      <th>C</th>\n",
       "      <th>D</th>\n",
       "    </tr>\n",
       "  </thead>\n",
       "  <tbody>\n",
       "    <tr>\n",
       "      <th>count</th>\n",
       "      <td>6.000000</td>\n",
       "      <td>6.000000</td>\n",
       "      <td>6.000000</td>\n",
       "      <td>6.000000</td>\n",
       "    </tr>\n",
       "    <tr>\n",
       "      <th>mean</th>\n",
       "      <td>0.017023</td>\n",
       "      <td>-0.364213</td>\n",
       "      <td>0.016121</td>\n",
       "      <td>0.053699</td>\n",
       "    </tr>\n",
       "    <tr>\n",
       "      <th>std</th>\n",
       "      <td>0.467295</td>\n",
       "      <td>0.674259</td>\n",
       "      <td>1.088355</td>\n",
       "      <td>0.859827</td>\n",
       "    </tr>\n",
       "    <tr>\n",
       "      <th>min</th>\n",
       "      <td>-0.491105</td>\n",
       "      <td>-1.161716</td>\n",
       "      <td>-1.382855</td>\n",
       "      <td>-1.011374</td>\n",
       "    </tr>\n",
       "    <tr>\n",
       "      <th>25%</th>\n",
       "      <td>-0.399382</td>\n",
       "      <td>-0.890344</td>\n",
       "      <td>-0.813647</td>\n",
       "      <td>-0.664497</td>\n",
       "    </tr>\n",
       "    <tr>\n",
       "      <th>50%</th>\n",
       "      <td>0.028733</td>\n",
       "      <td>-0.306431</td>\n",
       "      <td>0.198543</td>\n",
       "      <td>0.198327</td>\n",
       "    </tr>\n",
       "    <tr>\n",
       "      <th>75%</th>\n",
       "      <td>0.332607</td>\n",
       "      <td>-0.046791</td>\n",
       "      <td>0.682745</td>\n",
       "      <td>0.694124</td>\n",
       "    </tr>\n",
       "    <tr>\n",
       "      <th>max</th>\n",
       "      <td>0.643967</td>\n",
       "      <td>0.634529</td>\n",
       "      <td>1.389393</td>\n",
       "      <td>1.029630</td>\n",
       "    </tr>\n",
       "  </tbody>\n",
       "</table>\n",
       "</div>"
      ],
      "text/plain": [
       "              A         B         C         D\n",
       "count  6.000000  6.000000  6.000000  6.000000\n",
       "mean   0.017023 -0.364213  0.016121  0.053699\n",
       "std    0.467295  0.674259  1.088355  0.859827\n",
       "min   -0.491105 -1.161716 -1.382855 -1.011374\n",
       "25%   -0.399382 -0.890344 -0.813647 -0.664497\n",
       "50%    0.028733 -0.306431  0.198543  0.198327\n",
       "75%    0.332607 -0.046791  0.682745  0.694124\n",
       "max    0.643967  0.634529  1.389393  1.029630"
      ]
     },
     "execution_count": 24,
     "metadata": {},
     "output_type": "execute_result"
    }
   ],
   "source": [
    "df.describe()"
   ]
  },
  {
   "cell_type": "code",
   "execution_count": 25,
   "id": "e5faf835",
   "metadata": {},
   "outputs": [
    {
     "data": {
      "text/html": [
       "<div>\n",
       "<style scoped>\n",
       "    .dataframe tbody tr th:only-of-type {\n",
       "        vertical-align: middle;\n",
       "    }\n",
       "\n",
       "    .dataframe tbody tr th {\n",
       "        vertical-align: top;\n",
       "    }\n",
       "\n",
       "    .dataframe thead th {\n",
       "        text-align: right;\n",
       "    }\n",
       "</style>\n",
       "<table border=\"1\" class=\"dataframe\">\n",
       "  <thead>\n",
       "    <tr style=\"text-align: right;\">\n",
       "      <th></th>\n",
       "      <th>2022-01-01</th>\n",
       "      <th>2022-01-02</th>\n",
       "      <th>2022-01-03</th>\n",
       "      <th>2022-01-04</th>\n",
       "      <th>2022-01-05</th>\n",
       "      <th>2022-01-06</th>\n",
       "    </tr>\n",
       "  </thead>\n",
       "  <tbody>\n",
       "    <tr>\n",
       "      <th>A</th>\n",
       "      <td>-0.491105</td>\n",
       "      <td>0.201389</td>\n",
       "      <td>0.376346</td>\n",
       "      <td>-0.143922</td>\n",
       "      <td>0.643967</td>\n",
       "      <td>-0.484536</td>\n",
       "    </tr>\n",
       "    <tr>\n",
       "      <th>B</th>\n",
       "      <td>-1.002755</td>\n",
       "      <td>0.634529</td>\n",
       "      <td>-1.161716</td>\n",
       "      <td>-0.059754</td>\n",
       "      <td>-0.553109</td>\n",
       "      <td>-0.042471</td>\n",
       "    </tr>\n",
       "    <tr>\n",
       "      <th>C</th>\n",
       "      <td>-1.141881</td>\n",
       "      <td>0.834983</td>\n",
       "      <td>0.171054</td>\n",
       "      <td>-1.382855</td>\n",
       "      <td>1.389393</td>\n",
       "      <td>0.226032</td>\n",
       "    </tr>\n",
       "    <tr>\n",
       "      <th>D</th>\n",
       "      <td>-0.921176</td>\n",
       "      <td>0.828460</td>\n",
       "      <td>1.029630</td>\n",
       "      <td>0.291116</td>\n",
       "      <td>0.105539</td>\n",
       "      <td>-1.011374</td>\n",
       "    </tr>\n",
       "  </tbody>\n",
       "</table>\n",
       "</div>"
      ],
      "text/plain": [
       "   2022-01-01  2022-01-02  2022-01-03  2022-01-04  2022-01-05  2022-01-06\n",
       "A   -0.491105    0.201389    0.376346   -0.143922    0.643967   -0.484536\n",
       "B   -1.002755    0.634529   -1.161716   -0.059754   -0.553109   -0.042471\n",
       "C   -1.141881    0.834983    0.171054   -1.382855    1.389393    0.226032\n",
       "D   -0.921176    0.828460    1.029630    0.291116    0.105539   -1.011374"
      ]
     },
     "execution_count": 25,
     "metadata": {},
     "output_type": "execute_result"
    }
   ],
   "source": [
    "df.T"
   ]
  },
  {
   "cell_type": "code",
   "execution_count": 29,
   "id": "ea5b3199",
   "metadata": {},
   "outputs": [
    {
     "data": {
      "text/html": [
       "<div>\n",
       "<style scoped>\n",
       "    .dataframe tbody tr th:only-of-type {\n",
       "        vertical-align: middle;\n",
       "    }\n",
       "\n",
       "    .dataframe tbody tr th {\n",
       "        vertical-align: top;\n",
       "    }\n",
       "\n",
       "    .dataframe thead th {\n",
       "        text-align: right;\n",
       "    }\n",
       "</style>\n",
       "<table border=\"1\" class=\"dataframe\">\n",
       "  <thead>\n",
       "    <tr style=\"text-align: right;\">\n",
       "      <th></th>\n",
       "      <th>A</th>\n",
       "      <th>B</th>\n",
       "      <th>C</th>\n",
       "      <th>D</th>\n",
       "    </tr>\n",
       "  </thead>\n",
       "  <tbody>\n",
       "    <tr>\n",
       "      <th>2022-01-02</th>\n",
       "      <td>0.201389</td>\n",
       "      <td>0.634529</td>\n",
       "      <td>0.834983</td>\n",
       "      <td>0.828460</td>\n",
       "    </tr>\n",
       "    <tr>\n",
       "      <th>2022-01-03</th>\n",
       "      <td>0.376346</td>\n",
       "      <td>-1.161716</td>\n",
       "      <td>0.171054</td>\n",
       "      <td>1.029630</td>\n",
       "    </tr>\n",
       "    <tr>\n",
       "      <th>2022-01-05</th>\n",
       "      <td>0.643967</td>\n",
       "      <td>-0.553109</td>\n",
       "      <td>1.389393</td>\n",
       "      <td>0.105539</td>\n",
       "    </tr>\n",
       "  </tbody>\n",
       "</table>\n",
       "</div>"
      ],
      "text/plain": [
       "                   A         B         C         D\n",
       "2022-01-02  0.201389  0.634529  0.834983  0.828460\n",
       "2022-01-03  0.376346 -1.161716  0.171054  1.029630\n",
       "2022-01-05  0.643967 -0.553109  1.389393  0.105539"
      ]
     },
     "execution_count": 29,
     "metadata": {},
     "output_type": "execute_result"
    }
   ],
   "source": [
    "df[df['A'] > 0]"
   ]
  },
  {
   "cell_type": "code",
   "execution_count": 34,
   "id": "59b714e9",
   "metadata": {},
   "outputs": [
    {
     "data": {
      "text/html": [
       "<div>\n",
       "<style scoped>\n",
       "    .dataframe tbody tr th:only-of-type {\n",
       "        vertical-align: middle;\n",
       "    }\n",
       "\n",
       "    .dataframe tbody tr th {\n",
       "        vertical-align: top;\n",
       "    }\n",
       "\n",
       "    .dataframe thead th {\n",
       "        text-align: right;\n",
       "    }\n",
       "</style>\n",
       "<table border=\"1\" class=\"dataframe\">\n",
       "  <thead>\n",
       "    <tr style=\"text-align: right;\">\n",
       "      <th></th>\n",
       "      <th>A</th>\n",
       "      <th>B</th>\n",
       "      <th>C</th>\n",
       "      <th>D</th>\n",
       "    </tr>\n",
       "  </thead>\n",
       "  <tbody>\n",
       "    <tr>\n",
       "      <th>2022-01-01</th>\n",
       "      <td>-0.491105</td>\n",
       "      <td>-1.002755</td>\n",
       "      <td>-1.141881</td>\n",
       "      <td>-0.921176</td>\n",
       "    </tr>\n",
       "    <tr>\n",
       "      <th>2022-01-06</th>\n",
       "      <td>-0.484536</td>\n",
       "      <td>-0.042471</td>\n",
       "      <td>0.226032</td>\n",
       "      <td>-1.011374</td>\n",
       "    </tr>\n",
       "    <tr>\n",
       "      <th>2022-01-04</th>\n",
       "      <td>-0.143922</td>\n",
       "      <td>-0.059754</td>\n",
       "      <td>-1.382855</td>\n",
       "      <td>0.291116</td>\n",
       "    </tr>\n",
       "    <tr>\n",
       "      <th>2022-01-02</th>\n",
       "      <td>0.201389</td>\n",
       "      <td>0.634529</td>\n",
       "      <td>0.834983</td>\n",
       "      <td>0.828460</td>\n",
       "    </tr>\n",
       "    <tr>\n",
       "      <th>2022-01-03</th>\n",
       "      <td>0.376346</td>\n",
       "      <td>-1.161716</td>\n",
       "      <td>0.171054</td>\n",
       "      <td>1.029630</td>\n",
       "    </tr>\n",
       "    <tr>\n",
       "      <th>2022-01-05</th>\n",
       "      <td>0.643967</td>\n",
       "      <td>-0.553109</td>\n",
       "      <td>1.389393</td>\n",
       "      <td>0.105539</td>\n",
       "    </tr>\n",
       "  </tbody>\n",
       "</table>\n",
       "</div>"
      ],
      "text/plain": [
       "                   A         B         C         D\n",
       "2022-01-01 -0.491105 -1.002755 -1.141881 -0.921176\n",
       "2022-01-06 -0.484536 -0.042471  0.226032 -1.011374\n",
       "2022-01-04 -0.143922 -0.059754 -1.382855  0.291116\n",
       "2022-01-02  0.201389  0.634529  0.834983  0.828460\n",
       "2022-01-03  0.376346 -1.161716  0.171054  1.029630\n",
       "2022-01-05  0.643967 -0.553109  1.389393  0.105539"
      ]
     },
     "execution_count": 34,
     "metadata": {},
     "output_type": "execute_result"
    }
   ],
   "source": [
    "df.sort_values(by='A')"
   ]
  },
  {
   "cell_type": "markdown",
   "id": "d204f98f",
   "metadata": {},
   "source": [
    "## read and write operations"
   ]
  },
  {
   "cell_type": "code",
   "execution_count": 36,
   "id": "25cb57e6",
   "metadata": {},
   "outputs": [],
   "source": [
    "df.to_csv('test.csv')\n",
    "# df.to_exel('/tmp/test.xlsv')"
   ]
  },
  {
   "cell_type": "code",
   "execution_count": null,
   "id": "b1dce95d",
   "metadata": {},
   "outputs": [],
   "source": []
  }
 ],
 "metadata": {
  "kernelspec": {
   "display_name": "Python 3 (ipykernel)",
   "language": "python",
   "name": "python3"
  },
  "language_info": {
   "codemirror_mode": {
    "name": "ipython",
    "version": 3
   },
   "file_extension": ".py",
   "mimetype": "text/x-python",
   "name": "python",
   "nbconvert_exporter": "python",
   "pygments_lexer": "ipython3",
   "version": "3.9.6"
  }
 },
 "nbformat": 4,
 "nbformat_minor": 5
}
