{
 "cells": [
  {
   "cell_type": "markdown",
   "id": "fcf4e7e2",
   "metadata": {},
   "source": [
    "# Introduction to Hoda Dataset \n",
    "\n",
    "#### hoda digits set is the first and biggest hand-written persian digit-set, include 102353 black and white sample. this set have been collected in masters of science project. link below for more info.\n",
    "[link](https://www.sciencedirect.com/science/article/pii/S0167865507000037)"
   ]
  },
  {
   "cell_type": "code",
   "execution_count": 2,
   "id": "f0a0f30f",
   "metadata": {},
   "outputs": [],
   "source": [
    "import numpy as np\n",
    "from scipy import io\n",
    "import matplotlib.pyplot as plt\n",
    "import cv2"
   ]
  },
  {
   "cell_type": "code",
   "execution_count": 3,
   "id": "a4105f98",
   "metadata": {},
   "outputs": [],
   "source": [
    "# load dataset\n",
    "dataset = io.loadmat('dataset\\Data_hoda_full.mat')"
   ]
  },
  {
   "cell_type": "code",
   "execution_count": 5,
   "id": "e17c7ff4",
   "metadata": {},
   "outputs": [],
   "source": [
    "# test and training test\n",
    "X_train_original = np.squeeze(dataset['Data'][:2000])\n",
    "Y_train = np.squeeze(dataset['labels'][:2000])\n",
    "X_test_original = np.squeeze(dataset['Data'][2000:2400])\n",
    "Y_test = np.squeeze(dataset['labels'][2000:2400])"
   ]
  },
  {
   "cell_type": "code",
   "execution_count": 12,
   "id": "3da95e61",
   "metadata": {},
   "outputs": [
    {
     "data": {
      "image/png": "[encoded data removed]",
      "text/plain": [
       "<Figure size 432x288 with 1 Axes>"
      ]
     },
     "metadata": {
      "needs_background": "light"
     },
     "output_type": "display_data"
    },
    {
     "name": "stdout",
     "output_type": "stream",
     "text": [
      "Label 9th image is: 7\n"
     ]
    }
   ],
   "source": [
    "i = 9\n",
    "plt.imshow(X_train_original[9], cmap='gray')\n",
    "plt.show()\n",
    "image = X_train_original[i]\n",
    "label = Y_train[i]\n",
    "print('Label {}th image is: {}'.format(i, label))"
   ]
  },
  {
   "cell_type": "code",
   "execution_count": 15,
   "id": "9a9bafa1",
   "metadata": {},
   "outputs": [],
   "source": [
    "# resize\n",
    "X_train_7by7 = [cv2.resize(img, dsize=(7, 7)) for img in X_train_original]\n",
    "X_test_7by7 = [cv2.resize(img, dsize=(7, 7)) for img in X_test_original]"
   ]
  },
  {
   "cell_type": "code",
   "execution_count": 17,
   "id": "ccc4430f",
   "metadata": {},
   "outputs": [
    {
     "data": {
      "image/png": "[encoded data removed]",
      "text/plain": [
       "<Figure size 432x288 with 1 Axes>"
      ]
     },
     "metadata": {
      "needs_background": "light"
     },
     "output_type": "display_data"
    }
   ],
   "source": [
    "image = X_train_7by7[i]\n",
    "plt.imshow(image, cmap='gray')\n",
    "plt.show()"
   ]
  },
  {
   "cell_type": "code",
   "execution_count": 19,
   "id": "976a8b03",
   "metadata": {},
   "outputs": [
    {
     "data": {
      "text/plain": [
       "(2000, 49)"
      ]
     },
     "execution_count": 19,
     "metadata": {},
     "output_type": "execute_result"
    }
   ],
   "source": [
    "# reshape\n",
    "X_train = np.reshape(X_train_7by7, [-1, 49])\n",
    "X_test = np.reshape(X_test_7by7, [-1, 49])\n",
    "X_train.shape"
   ]
  },
  {
   "cell_type": "code",
   "execution_count": 20,
   "id": "a4915c36",
   "metadata": {},
   "outputs": [
    {
     "data": {
      "text/plain": [
       "(400, 49)"
      ]
     },
     "execution_count": 20,
     "metadata": {},
     "output_type": "execute_result"
    }
   ],
   "source": [
    "X_test.shape"
   ]
  }
 ],
 "metadata": {
  "kernelspec": {
   "display_name": "Python 3 (ipykernel)",
   "language": "python",
   "name": "python3"
  },
  "language_info": {
   "codemirror_mode": {
    "name": "ipython",
    "version": 3
   },
   "file_extension": ".py",
   "mimetype": "text/x-python",
   "name": "python",
   "nbconvert_exporter": "python",
   "pygments_lexer": "ipython3",
   "version": "3.9.6"
  }
 },
 "nbformat": 4,
 "nbformat_minor": 5
}
